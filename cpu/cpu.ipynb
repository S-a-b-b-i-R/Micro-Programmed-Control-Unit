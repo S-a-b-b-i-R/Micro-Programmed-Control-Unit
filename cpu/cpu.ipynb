{
 "cells": [
  {
   "cell_type": "code",
   "execution_count": 6,
   "metadata": {},
   "outputs": [],
   "source": [
    "#==================================================\n",
    "#                Load overlay\n",
    "#=================================================\n",
    "from pynq import Overlay\n",
    "from pynq.lib import AxiGPIO\n",
    "overlay = Overlay(\"/home/xilinx/jupyter_notebooks/cpu.bit\")\n",
    "# overlay?"
   ]
  },
  {
   "cell_type": "code",
   "execution_count": 7,
   "metadata": {},
   "outputs": [],
   "source": [
    "\n",
    "gpio_5 = overlay.ip_dict['axi_gpio_0']\n",
    "gpio_m0 = AxiGPIO(gpio_5).channel1\n",
    "gpio_m1 = AxiGPIO(gpio_5).channel2\n",
    "gpio_6 = overlay.ip_dict['axi_gpio_1']\n",
    "gpio_m2 = AxiGPIO(gpio_6).channel1\n",
    "gpio_m3 = AxiGPIO(gpio_6).channel2\n",
    "gpio_7 = overlay.ip_dict['axi_gpio_2']\n",
    "gpio_m4 = AxiGPIO(gpio_7).channel1\n",
    "gpio_m5 = AxiGPIO(gpio_7).channel2\n",
    "gpio_8 = overlay.ip_dict['axi_gpio_3']\n",
    "rst_n = AxiGPIO(gpio_8).channel1"
   ]
  },
  {
   "cell_type": "code",
   "execution_count": 8,
   "metadata": {},
   "outputs": [
    {
     "name": "stdout",
     "output_type": "stream",
     "text": [
      "0\n",
      "1\n",
      "4\n",
      "5\n",
      "6\n",
      "10\n"
     ]
    }
   ],
   "source": [
    "import time\n",
    "timedelay = 0.0001\n",
    "time.sleep(timedelay )\n",
    "mask = 0b1\n",
    "rst_n.write(1,mask)\n",
    "m0 = gpio_m0.read()\n",
    "m1 = gpio_m1.read()\n",
    "m2 = gpio_m2.read()\n",
    "m3 = gpio_m3.read()\n",
    "m4 = gpio_m4.read()\n",
    "m5 = gpio_m5.read()\n",
    "print(m0)\n",
    "print(m1)\n",
    "print(m2)\n",
    "print(m3)\n",
    "print(m4)\n",
    "print(m5)"
   ]
  },
  {
   "cell_type": "code",
   "execution_count": null,
   "metadata": {},
   "outputs": [],
   "source": []
  }
 ],
 "metadata": {
  "kernelspec": {
   "display_name": "Python 3",
   "language": "python",
   "name": "python3"
  },
  "language_info": {
   "codemirror_mode": {
    "name": "ipython",
    "version": 3
   },
   "file_extension": ".py",
   "mimetype": "text/x-python",
   "name": "python",
   "nbconvert_exporter": "python",
   "pygments_lexer": "ipython3",
   "version": "3.6.5"
  }
 },
 "nbformat": 4,
 "nbformat_minor": 2
}
